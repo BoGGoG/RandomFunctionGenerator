{
 "cells": [
  {
   "cell_type": "code",
   "execution_count": 196,
   "metadata": {},
   "outputs": [],
   "source": [
    "import sympy\n",
    "from sympy import symbols, srepr, series\n",
    "import random\n",
    "from random import sample, choice\n",
    "import numpy as np\n"
   ]
  },
  {
   "cell_type": "code",
   "execution_count": 3,
   "metadata": {},
   "outputs": [
    {
     "ename": "NameError",
     "evalue": "name 'x' is not defined",
     "output_type": "error",
     "traceback": [
      "\u001b[0;31m---------------------------------------------------------------------------\u001b[0m",
      "\u001b[0;31mNameError\u001b[0m                                 Traceback (most recent call last)",
      "\u001b[1;32m/home/mknipfer/Documents/UA/RandomFunctionGenerator/notebooks/2022-04-15-PlayAround.ipynb Cell 2'\u001b[0m in \u001b[0;36m<cell line: 1>\u001b[0;34m()\u001b[0m\n\u001b[0;32m----> <a href='vscode-notebook-cell://wsl%2Bubuntu/home/mknipfer/Documents/UA/RandomFunctionGenerator/notebooks/2022-04-15-PlayAround.ipynb#ch0000002vscode-remote?line=0'>1</a>\u001b[0m sympy\u001b[39m.\u001b[39mexpand((sympy\u001b[39m.\u001b[39msqrt(x\u001b[39m+\u001b[39m\u001b[39m2\u001b[39m\u001b[39m*\u001b[39my)\u001b[39m-\u001b[39m\u001b[39m2\u001b[39m)\u001b[39m*\u001b[39m\u001b[39m*\u001b[39m\u001b[39m2\u001b[39m)\n",
      "\u001b[0;31mNameError\u001b[0m: name 'x' is not defined"
     ]
    }
   ],
   "source": [
    "sympy.expand((sympy.sqrt(x+2*y)-2)**2)"
   ]
  },
  {
   "cell_type": "code",
   "execution_count": 221,
   "metadata": {},
   "outputs": [
    {
     "data": {
      "text/plain": [
       "3"
      ]
     },
     "execution_count": 221,
     "metadata": {},
     "output_type": "execute_result"
    }
   ],
   "source": [
    "np.random.choice([1,2,3], p=np.array([1,5,100])/106)"
   ]
  },
  {
   "cell_type": "code",
   "execution_count": 321,
   "metadata": {},
   "outputs": [
    {
     "data": {
      "text/plain": [
       "sympy.core.mul.Mul"
      ]
     },
     "execution_count": 321,
     "metadata": {},
     "output_type": "execute_result"
    }
   ],
   "source": [
    "sympy.Mul"
   ]
  },
  {
   "cell_type": "code",
   "execution_count": 328,
   "metadata": {},
   "outputs": [
    {
     "data": {
      "text/plain": [
       "\"Mul(Symbol('x'), Pow(Symbol('y'), Integer(-1)))\""
      ]
     },
     "execution_count": 328,
     "metadata": {},
     "output_type": "execute_result"
    }
   ],
   "source": [
    "srepr(x/y)"
   ]
  },
  {
   "cell_type": "code",
   "execution_count": 329,
   "metadata": {},
   "outputs": [],
   "source": [
    "def Div(x,y):\n",
    "    return sympy.Mul(x, sympy.Pow(y, sympy.Integer(-1)))"
   ]
  },
  {
   "cell_type": "code",
   "execution_count": 333,
   "metadata": {},
   "outputs": [],
   "source": [
    "var = symbols('x')\n",
    "consts = symbols('a b c d')\n",
    "unary_functions = [sympy.sqrt, sympy.sin, sympy.cos, sympy.exp, sympy.tan, sympy.sinh, sympy.cosh, sympy.tanh]\n",
    "binary_functions = [sympy.Mul, sympy.Pow, sympy.Add, Div]"
   ]
  },
  {
   "cell_type": "code",
   "execution_count": 358,
   "metadata": {},
   "outputs": [],
   "source": [
    "def random_function(vars, consts, depth = 0, max_depth = 1):\n",
    "    if depth >= max_depth:\n",
    "        return choice(vars) \n",
    "\n",
    "    if depth > 0:\n",
    "        next_step = np.random.choice([\"var\", \"func\"], p=[0.1,0.9])\n",
    "\n",
    "        if next_step == \"var\":\n",
    "            return choice(vars)\n",
    "\n",
    "    next_step = np.random.choice([\"const\", \"unary_func\", \"binary_func\"], p=[0.2, 0.4, 0.4])\n",
    "    \n",
    "    if next_step == \"const\":\n",
    "        return choice(consts)\n",
    "    elif next_step == \"unary_func\":\n",
    "        return choice(unary_functions)(random_function(vars, consts, depth = depth+1))\n",
    "    elif next_step == \"binary_func\":\n",
    "        return choice(binary_functions)(\n",
    "            random_function(vars, consts, depth = depth+1, max_depth=max_depth),\n",
    "            random_function(vars, consts, depth = depth+1, max_depth=max_depth)\n",
    "            )\n",
    "\n",
    "    return sympy.simplify(rnd_func)"
   ]
  },
  {
   "cell_type": "code",
   "execution_count": 371,
   "metadata": {},
   "outputs": [
    {
     "data": {
      "text/plain": [
       "[1,\n",
       " 2*b + c + tan(x),\n",
       " sqrt(x)/cos(x),\n",
       " exp(x),\n",
       " x**((x**2/c)**(x**x/x)),\n",
       " x*sinh(x) + x**cos(x),\n",
       " c + cos(x),\n",
       " (sqrt(x) + x)/(d + 2*x),\n",
       " a/x,\n",
       " tan(x) + sinh(x),\n",
       " tan(x),\n",
       " cos(x)**sin(x),\n",
       " cosh(x),\n",
       " a + x**2 + x + tanh(x) + x**2/c,\n",
       " b + cos(x)**c,\n",
       " a,\n",
       " sinh(x)**(2*sinh(x)),\n",
       " cos(x)*tanh(x),\n",
       " x/(a*tanh(x)**d),\n",
       " a/c,\n",
       " tanh(x)**x,\n",
       " tanh(x),\n",
       " sinh(x),\n",
       " (b + x)**a,\n",
       " a + x,\n",
       " b/c,\n",
       " c*exp(x),\n",
       " c**b*tan(x),\n",
       " cos(x),\n",
       " sin(x) + cos(x)/x,\n",
       " a*exp(-x)/cos(x),\n",
       " d/(x*sin(x)*cosh(x)),\n",
       " sin(x)*sinh(x)/tan(x),\n",
       " sqrt(x) + cosh(x),\n",
       " c*sqrt(x),\n",
       " x*sinh(x),\n",
       " c**cosh(x),\n",
       " sin(x),\n",
       " d,\n",
       " c,\n",
       " b,\n",
       " (d*tanh(x))**(sqrt(x)/d),\n",
       " x**(x**x),\n",
       " sqrt(x),\n",
       " x*cosh(x),\n",
       " tan(x)**cos(x),\n",
       " a*sinh(x)/(sqrt(x) + 2*x),\n",
       " sqrt(x) + x**2,\n",
       " a**b,\n",
       " sqrt(x)*sin(x),\n",
       " x**(a + x + tanh(x)),\n",
       " x*exp(-x),\n",
       " a*c**2*exp(-x)/sqrt(x),\n",
       " cos(x)*cos(x)**sin(x),\n",
       " b + tan(x),\n",
       " (x + sinh(x))*cos(x)/x]"
      ]
     },
     "execution_count": 371,
     "metadata": {},
     "output_type": "execute_result"
    }
   ],
   "source": [
    "rnd_functions = set() \n",
    "for i in range(100):\n",
    "    rnd_functions.add(random_function([var], consts, depth = 0, max_depth=4))\n",
    "rnd_functions = list(rnd_functions)\n",
    "rnd_functions"
   ]
  },
  {
   "cell_type": "code",
   "execution_count": 411,
   "metadata": {},
   "outputs": [
    {
     "data": {
      "image/png": "[encoded data removed]",
      "text/latex": [
       "$\\displaystyle 1 + x + \\frac{x^{2}}{2} + \\frac{x^{3}}{6} + O\\left(x^{4}\\right)$"
      ],
      "text/plain": [
       "1 + x + x**2/2 + x**3/6 + O(x**4)"
      ]
     },
     "execution_count": 411,
     "metadata": {},
     "output_type": "execute_result"
    }
   ],
   "source": [
    "rnd_functions[3].series(x, n=4)"
   ]
  },
  {
   "cell_type": "code",
   "execution_count": 407,
   "metadata": {},
   "outputs": [],
   "source": [
    "def factorial(n):\n",
    "    if n <= 0:\n",
    "        return 1\n",
    "    else:\n",
    "        return n * factorial(n - 1)"
   ]
  },
  {
   "cell_type": "code",
   "execution_count": 408,
   "metadata": {},
   "outputs": [],
   "source": [
    "def taylor(function, x0, n, x = sympy.Symbol('x')):\n",
    "    i = 0\n",
    "    p = 0\n",
    "    while i <= n:\n",
    "        p = p + (function.diff(x, i).subs(x, x0))/(factorial(i))*(x - x0)**i\n",
    "        i += 1\n",
    "    return p"
   ]
  },
  {
   "cell_type": "code",
   "execution_count": 412,
   "metadata": {},
   "outputs": [
    {
     "data": {
      "image/png": "[encoded data removed]",
      "text/latex": [
       "$\\displaystyle \\frac{x^{4}}{24} + \\frac{x^{3}}{6} + \\frac{x^{2}}{2} + x + 1$"
      ],
      "text/plain": [
       "x**4/24 + x**3/6 + x**2/2 + x + 1"
      ]
     },
     "execution_count": 412,
     "metadata": {},
     "output_type": "execute_result"
    }
   ],
   "source": [
    "taylor(rnd_functions[3], 0, 4)"
   ]
  },
  {
   "cell_type": "code",
   "execution_count": null,
   "metadata": {},
   "outputs": [],
   "source": [
    "coeffs = []\n",
    "for foo in rnd_functions[0:10]:\n",
    "    tmp = series(foo, x, 0, 5)\n",
    "    tmp = sympy.Poly(tmp, x)\n",
    "    coeffs.append(tmp)\n",
    "coeffs"
   ]
  },
  {
   "cell_type": "code",
   "execution_count": 99,
   "metadata": {},
   "outputs": [
    {
     "data": {
      "text/plain": [
       "<function sympy.core.power.Pow.__new__(cls, b, e, evaluate=None)>"
      ]
     },
     "execution_count": 99,
     "metadata": {},
     "output_type": "execute_result"
    }
   ],
   "source": [
    "sympy.Pow.__new__"
   ]
  },
  {
   "cell_type": "code",
   "execution_count": null,
   "metadata": {},
   "outputs": [],
   "source": []
  }
 ],
 "metadata": {
  "interpreter": {
   "hash": "916dbcbb3f70747c44a77c7bcd40155683ae19c65e1c03b4aa3499c5328201f1"
  },
  "kernelspec": {
   "display_name": "Python 3.8.10 64-bit",
   "language": "python",
   "name": "python3"
  },
  "language_info": {
   "codemirror_mode": {
    "name": "ipython",
    "version": 3
   },
   "file_extension": ".py",
   "mimetype": "text/x-python",
   "name": "python",
   "nbconvert_exporter": "python",
   "pygments_lexer": "ipython3",
   "version": "3.10.4"
  },
  "orig_nbformat": 4
 },
 "nbformat": 4,
 "nbformat_minor": 2
}

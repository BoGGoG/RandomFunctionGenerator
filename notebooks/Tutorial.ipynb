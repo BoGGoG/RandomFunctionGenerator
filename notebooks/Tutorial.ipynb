{
 "cells": [
  {
   "cell_type": "code",
   "execution_count": 28,
   "metadata": {},
   "outputs": [],
   "source": [
    "import os\n",
    "from random import random\n",
    "from sympy import symbols, init_printing, srepr\n",
    "from IPython.display import display"
   ]
  },
  {
   "cell_type": "code",
   "execution_count": 2,
   "metadata": {},
   "outputs": [],
   "source": [
    "init_printing()\n",
    "os.chdir(\"..\")"
   ]
  },
  {
   "cell_type": "code",
   "execution_count": 3,
   "metadata": {},
   "outputs": [],
   "source": [
    "from source.RandomFunctionGenerator import random_function, generate_random_functions"
   ]
  },
  {
   "cell_type": "code",
   "execution_count": 4,
   "metadata": {},
   "outputs": [],
   "source": [
    "var = symbols('x')\n",
    "consts = symbols('a b c d')"
   ]
  },
  {
   "cell_type": "code",
   "execution_count": 5,
   "metadata": {},
   "outputs": [],
   "source": [
    "random_functions = generate_random_functions([var], consts, amount=20, max_depth=4)"
   ]
  },
  {
   "cell_type": "code",
   "execution_count": 24,
   "metadata": {},
   "outputs": [
    {
     "data": {
      "image/png": "[encoded data removed]",
      "text/latex": [
       "$\\displaystyle x \\cos{\\left(c \\right)}$"
      ],
      "text/plain": [
       "x⋅cos(c)"
      ]
     },
     "metadata": {},
     "output_type": "display_data"
    },
    {
     "data": {
      "image/png": "[encoded data removed]",
      "text/latex": [
       "$\\displaystyle \\tanh{\\left(x \\right)}$"
      ],
      "text/plain": [
       "tanh(x)"
      ]
     },
     "metadata": {},
     "output_type": "display_data"
    },
    {
     "data": {
      "image/png": "[encoded data removed]",
      "text/latex": [
       "$\\displaystyle \\tan^{x + \\cosh{\\left(x \\right)}}{\\left(\\sinh{\\left(d + x \\right)} \\right)}$"
      ],
      "text/plain": [
       "   x + cosh(x)             \n",
       "tan           (sinh(d + x))"
      ]
     },
     "metadata": {},
     "output_type": "display_data"
    },
    {
     "data": {
      "image/png": "[encoded data removed]",
      "text/latex": [
       "$\\displaystyle x \\tan{\\left(1 \\right)} \\sinh{\\left(x \\right)}$"
      ],
      "text/plain": [
       "x⋅tan(1)⋅sinh(x)"
      ]
     },
     "metadata": {},
     "output_type": "display_data"
    },
    {
     "data": {
      "image/png": "[encoded data removed]",
      "text/latex": [
       "$\\displaystyle \\cos{\\left(x^{2} + \\cosh{\\left(x^{x} \\right)} \\right)}$"
      ],
      "text/plain": [
       "   ⎛ 2       ⎛ x⎞⎞\n",
       "cos⎝x  + cosh⎝x ⎠⎠"
      ]
     },
     "metadata": {},
     "output_type": "display_data"
    },
    {
     "data": {
      "image/png": "[encoded data removed]",
      "text/latex": [
       "$\\displaystyle \\sin{\\left(\\sqrt{b} + \\sinh{\\left(x \\right)} \\right)}$"
      ],
      "text/plain": [
       "sin(√b + sinh(x))"
      ]
     },
     "metadata": {},
     "output_type": "display_data"
    },
    {
     "data": {
      "image/png": "[encoded data removed]",
      "text/latex": [
       "$\\displaystyle \\tan^{b}{\\left(d^{x} + 2 x \\right)}$"
      ],
      "text/plain": [
       "   b⎛ x      ⎞\n",
       "tan ⎝d  + 2⋅x⎠"
      ]
     },
     "metadata": {},
     "output_type": "display_data"
    },
    {
     "data": {
      "image/png": "[encoded data removed]",
      "text/latex": [
       "$\\displaystyle \\cos{\\left(\\tan{\\left(x \\right)} \\right)}$"
      ],
      "text/plain": [
       "cos(tan(x))"
      ]
     },
     "metadata": {},
     "output_type": "display_data"
    },
    {
     "data": {
      "image/png": "[encoded data removed]",
      "text/latex": [
       "$\\displaystyle a \\sinh{\\left(d x + x^{2} \\right)}$"
      ],
      "text/plain": [
       "      ⎛       2⎞\n",
       "a⋅sinh⎝d⋅x + x ⎠"
      ]
     },
     "metadata": {},
     "output_type": "display_data"
    },
    {
     "data": {
      "image/png": "[encoded data removed]",
      "text/latex": [
       "$\\displaystyle d \\left(x^{2}\\right)^{- a}$"
      ],
      "text/plain": [
       "      -a\n",
       "  ⎛ 2⎞  \n",
       "d⋅⎝x ⎠  "
      ]
     },
     "metadata": {},
     "output_type": "display_data"
    },
    {
     "data": {
      "image/png": "[encoded data removed]",
      "text/latex": [
       "$\\displaystyle \\frac{a c}{d} + x^{2} \\left(d + x\\right) \\tan{\\left(\\sin{\\left(x \\right)} \\right)}$"
      ],
      "text/plain": [
       "a⋅c    2                    \n",
       "─── + x ⋅(d + x)⋅tan(sin(x))\n",
       " d                          "
      ]
     },
     "metadata": {},
     "output_type": "display_data"
    },
    {
     "data": {
      "image/png": "[encoded data removed]",
      "text/latex": [
       "$\\displaystyle \\left(c + \\tan{\\left(x \\right)}\\right) \\tanh{\\left(\\sinh{\\left(x \\right)} \\right)} + \\sinh{\\left(\\tan{\\left(x^{2} \\right)} \\right)}$"
      ],
      "text/plain": [
       "                                 ⎛   ⎛ 2⎞⎞\n",
       "(c + tan(x))⋅tanh(sinh(x)) + sinh⎝tan⎝x ⎠⎠"
      ]
     },
     "metadata": {},
     "output_type": "display_data"
    },
    {
     "data": {
      "image/png": "[encoded data removed]",
      "text/latex": [
       "$\\displaystyle e^{e^{e}}$"
      ],
      "text/plain": [
       " ⎛ ℯ⎞\n",
       " ⎝ℯ ⎠\n",
       "ℯ    "
      ]
     },
     "metadata": {},
     "output_type": "display_data"
    },
    {
     "data": {
      "image/png": "[encoded data removed]",
      "text/latex": [
       "$\\displaystyle \\frac{x}{\\sqrt{\\tanh{\\left(x \\right)}}} + e^{x}$"
      ],
      "text/plain": [
       "     x         x\n",
       "─────────── + ℯ \n",
       "  _________     \n",
       "╲╱ tanh(x)      "
      ]
     },
     "metadata": {},
     "output_type": "display_data"
    },
    {
     "data": {
      "image/png": "[encoded data removed]",
      "text/latex": [
       "$\\displaystyle \\cos^{\\sqrt{x^{2} x^{x}}}{\\left(x \\right)}$"
      ],
      "text/plain": [
       "           _______\n",
       "          ╱  2  x \n",
       "        ╲╱  x ⋅x  \n",
       "(cos(x))          "
      ]
     },
     "metadata": {},
     "output_type": "display_data"
    },
    {
     "data": {
      "image/png": "[encoded data removed]",
      "text/latex": [
       "$\\displaystyle \\sinh{\\left(\\sqrt{x^{2}} \\right)} \\sinh{\\left(\\tan{\\left(\\frac{x}{a} \\right)} \\right)}$"
      ],
      "text/plain": [
       "    ⎛   ____⎞             \n",
       "    ⎜  ╱  2 ⎟     ⎛   ⎛x⎞⎞\n",
       "sinh⎝╲╱  x  ⎠⋅sinh⎜tan⎜─⎟⎟\n",
       "                  ⎝   ⎝a⎠⎠"
      ]
     },
     "metadata": {},
     "output_type": "display_data"
    },
    {
     "data": {
      "image/png": "[encoded data removed]",
      "text/latex": [
       "$\\displaystyle \\cosh^{x^{x} + \\cos{\\left(d \\right)} + e^{- x} \\tan{\\left(x \\right)}}{\\left(e^{d + x} \\right)}$"
      ],
      "text/plain": [
       "               x             -x       \n",
       "              x  + cos(d) + ℯ  ⋅tan(x)\n",
       "⎛    ⎛ d + x⎞⎞                        \n",
       "⎝cosh⎝ℯ     ⎠⎠                        "
      ]
     },
     "metadata": {},
     "output_type": "display_data"
    },
    {
     "data": {
      "image/png": "[encoded data removed]",
      "text/latex": [
       "$\\displaystyle \\tan{\\left(\\tanh{\\left(1 \\right)} \\right)}$"
      ],
      "text/plain": [
       "tan(tanh(1))"
      ]
     },
     "metadata": {},
     "output_type": "display_data"
    },
    {
     "data": {
      "image/png": "[encoded data removed]",
      "text/latex": [
       "$\\displaystyle x \\sin{\\left(\\cosh{\\left(\\sqrt{x} \\right)} \\right)}$"
      ],
      "text/plain": [
       "x⋅sin(cosh(√x))"
      ]
     },
     "metadata": {},
     "output_type": "display_data"
    },
    {
     "data": {
      "image/png": "[encoded data removed]",
      "text/latex": [
       "$\\displaystyle \\frac{\\cosh{\\left(1 \\right)}}{\\sinh{\\left(\\frac{b}{\\sqrt{x}} \\right)}}$"
      ],
      "text/plain": [
       "cosh(1) \n",
       "────────\n",
       "    ⎛b ⎞\n",
       "sinh⎜──⎟\n",
       "    ⎝√x⎠"
      ]
     },
     "metadata": {},
     "output_type": "display_data"
    }
   ],
   "source": [
    "for f in random_functions:\n",
    "    display(f)"
   ]
  },
  {
   "cell_type": "code",
   "execution_count": 29,
   "metadata": {},
   "outputs": [
    {
     "name": "stdout",
     "output_type": "stream",
     "text": [
      "Mul(Symbol('x'), cos(Symbol('c')))\n",
      "tanh(Symbol('x'))\n",
      "Pow(tan(sinh(Add(Symbol('d'), Symbol('x')))), Add(Symbol('x'), cosh(Symbol('x'))))\n",
      "Mul(Symbol('x'), tan(Integer(1)), sinh(Symbol('x')))\n",
      "cos(Add(Pow(Symbol('x'), Integer(2)), cosh(Pow(Symbol('x'), Symbol('x')))))\n",
      "sin(Add(Pow(Symbol('b'), Rational(1, 2)), sinh(Symbol('x'))))\n",
      "Pow(tan(Add(Pow(Symbol('d'), Symbol('x')), Mul(Integer(2), Symbol('x')))), Symbol('b'))\n",
      "cos(tan(Symbol('x')))\n",
      "Mul(Symbol('a'), sinh(Add(Mul(Symbol('d'), Symbol('x')), Pow(Symbol('x'), Integer(2)))))\n",
      "Mul(Symbol('d'), Pow(Pow(Symbol('x'), Integer(2)), Mul(Integer(-1), Symbol('a'))))\n",
      "Add(Mul(Symbol('a'), Symbol('c'), Pow(Symbol('d'), Integer(-1))), Mul(Pow(Symbol('x'), Integer(2)), Add(Symbol('d'), Symbol('x')), tan(sin(Symbol('x')))))\n",
      "Add(Mul(Add(Symbol('c'), tan(Symbol('x'))), tanh(sinh(Symbol('x')))), sinh(tan(Pow(Symbol('x'), Integer(2)))))\n",
      "exp(exp(E))\n",
      "Add(Mul(Symbol('x'), Pow(tanh(Symbol('x')), Rational(-1, 2))), exp(Symbol('x')))\n",
      "Pow(cos(Symbol('x')), Pow(Mul(Pow(Symbol('x'), Integer(2)), Pow(Symbol('x'), Symbol('x'))), Rational(1, 2)))\n",
      "Mul(sinh(Pow(Pow(Symbol('x'), Integer(2)), Rational(1, 2))), sinh(tan(Mul(Pow(Symbol('a'), Integer(-1)), Symbol('x')))))\n",
      "Pow(cosh(exp(Add(Symbol('d'), Symbol('x')))), Add(Pow(Symbol('x'), Symbol('x')), cos(Symbol('d')), Mul(exp(Mul(Integer(-1), Symbol('x'))), tan(Symbol('x')))))\n",
      "tan(tanh(Integer(1)))\n",
      "Mul(Symbol('x'), sin(cosh(Pow(Symbol('x'), Rational(1, 2)))))\n",
      "Mul(Pow(sinh(Mul(Symbol('b'), Pow(Symbol('x'), Rational(-1, 2)))), Integer(-1)), cosh(Integer(1)))\n"
     ]
    }
   ],
   "source": [
    "for f in random_functions:\n",
    "    print(srepr(f))"
   ]
  }
 ],
 "metadata": {
  "interpreter": {
   "hash": "5697745cc4eb79689c22bc3e54d1b3305fc382777688a0a5355095062d46c037"
  },
  "kernelspec": {
   "display_name": "Python 3.10.4 ('DelayLineDetector')",
   "language": "python",
   "name": "python3"
  },
  "language_info": {
   "codemirror_mode": {
    "name": "ipython",
    "version": 3
   },
   "file_extension": ".py",
   "mimetype": "text/x-python",
   "name": "python",
   "nbconvert_exporter": "python",
   "pygments_lexer": "ipython3",
   "version": "3.10.4"
  },
  "orig_nbformat": 4
 },
 "nbformat": 4,
 "nbformat_minor": 2
}
